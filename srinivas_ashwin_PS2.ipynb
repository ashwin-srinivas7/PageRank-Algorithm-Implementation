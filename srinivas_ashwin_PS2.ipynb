{
 "cells": [
  {
   "cell_type": "code",
   "execution_count": 72,
   "metadata": {},
   "outputs": [],
   "source": [
    "import numpy as np\n",
    "from sklearn.preprocessing import normalize\n",
    "from numpy.linalg import norm\n",
    "from numpy.linalg import norm\n",
    "import pandas as pd\n",
    "from tkinter import Tk\n",
    "from tkinter.filedialog import askopenfilename\n",
    "import time as time\n",
    "\n",
    "\n",
    "\n",
    "# Author: Ashwin Srinivas\n",
    "# Date: 21st Apr 2019\n",
    "# Notebook Desc: PageRank in the sample input matrix"
   ]
  },
  {
   "cell_type": "code",
   "execution_count": 73,
   "metadata": {},
   "outputs": [
    {
     "name": "stdout",
     "output_type": "stream",
     "text": [
      "Enter the number of journals 6\n",
      "Enter all 36 citations in order separated by space: \n",
      "1 0 2 0 4 3 3 0 1 1 0 0 2 0 4 0 1 0 0 0 1 0 0 1 8 0 3 0 5 2 0 0 0 0 0 0\n",
      "Adjacency matrix:\n",
      "[[1 0 2 0 4 3]\n",
      " [3 0 1 1 0 0]\n",
      " [2 0 4 0 1 0]\n",
      " [0 0 1 0 0 1]\n",
      " [8 0 3 0 5 2]\n",
      " [0 0 0 0 0 0]]\n"
     ]
    }
   ],
   "source": [
    "# Enter the adjacency matrix\n",
    "num_journals = int(input(\"Enter the number of journals \"))\n",
    "  \n",
    "print(\"Enter all\",num_journals*num_journals,\"citations in order separated by space: \") \n",
    "  \n",
    "# User input of entries in a single line separated by space \n",
    "# Test Input: 1 0 2 0 4 3 3 0 1 1 0 0 2 0 4 0 1 0 0 0 1 0 0 1 8 0 3 0 5 2 0 0 0 0 0 0\n",
    "entries1 = list(map(int, input().split())) \n",
    "\n",
    "# Reshape the list into a n x n matrix\n",
    "mtx1 = np.array(entries1).reshape(num_journals, num_journals)\n",
    "\n",
    "print(\"Adjacency matrix:\")\n",
    "print(mtx1)        "
   ]
  },
  {
   "cell_type": "code",
   "execution_count": 74,
   "metadata": {},
   "outputs": [
    {
     "name": "stdout",
     "output_type": "stream",
     "text": [
      "Matrix after removing self-references: \n",
      "[[0 0 2 0 4 3]\n",
      " [3 0 1 1 0 0]\n",
      " [2 0 0 0 1 0]\n",
      " [0 0 1 0 0 1]\n",
      " [8 0 3 0 0 2]\n",
      " [0 0 0 0 0 0]]\n"
     ]
    }
   ],
   "source": [
    "# Step 1: Make all self-references 0 (make diagonal elements 0)\n",
    "for i in range(num_journals):\n",
    "    for j in range(num_journals):\n",
    "        if (i==j): \n",
    "            mtx1[i][j]=0\n",
    "            break\n",
    "            \n",
    "print(\"Matrix after removing self-references: \")\n",
    "print(mtx1)"
   ]
  },
  {
   "cell_type": "code",
   "execution_count": 75,
   "metadata": {},
   "outputs": [
    {
     "name": "stdout",
     "output_type": "stream",
     "text": [
      "Normalized matrix: \n",
      "[[0.         0.         0.28571429 0.         0.8        0.5       ]\n",
      " [0.23076923 0.         0.14285714 1.         0.         0.        ]\n",
      " [0.15384615 0.         0.         0.         0.2        0.        ]\n",
      " [0.         0.         0.14285714 0.         0.         0.16666667]\n",
      " [0.61538462 0.         0.42857143 0.         0.         0.33333333]\n",
      " [0.         0.         0.         0.         0.         0.        ]]\n"
     ]
    }
   ],
   "source": [
    "# Step 2: Normalize this matrix. Divide each elememt by column_sum\n",
    "norm_mtx1 = normalize(mtx1, axis=0, norm='l1') # imported from sklearn\n",
    "\n",
    "#print the normalized matrix\n",
    "print(\"Normalized matrix: \")\n",
    "print(norm_mtx1)"
   ]
  },
  {
   "cell_type": "code",
   "execution_count": 77,
   "metadata": {},
   "outputs": [
    {
     "name": "stdout",
     "output_type": "stream",
     "text": [
      "Dangling-node vector: \n",
      "[[0. 1. 0. 0. 0. 0.]]\n"
     ]
    }
   ],
   "source": [
    "#Step 3: Compute the dangling-node vector. This will be the column sums of the normalized matrix\n",
    "d=[]\n",
    "for i in range(0,num_journals):\n",
    "    d.append(0)\n",
    "for i in range(0,num_journals):\n",
    "    for j in range(0,num_journals):\n",
    "        d[i] += norm_mtx1[j][i]     #d will have the column sums of all columns\n",
    "\n",
    "# If column_sum=0, then make that value 1 in the vector\n",
    "for i in range(0,num_journals):\n",
    "    if(d[i]==1.0):\n",
    "        d[i]=0.0\n",
    "    else:\n",
    "        d[i]=1.0\n",
    "\n",
    "        \n",
    "d = np.array(d).reshape(1,num_journals)\n",
    "#print the dangling-node vector\n",
    "print(\"Dangling-node vector: \")\n",
    "print(d)"
   ]
  },
  {
   "cell_type": "code",
   "execution_count": 78,
   "metadata": {},
   "outputs": [
    {
     "name": "stdout",
     "output_type": "stream",
     "text": [
      "a:  [[0.21428571]\n",
      " [0.14285714]\n",
      " [0.35714286]\n",
      " [0.07142857]\n",
      " [0.14285714]\n",
      " [0.07142857]]\n",
      "influence vector:  [[0.16666667]\n",
      " [0.16666667]\n",
      " [0.16666667]\n",
      " [0.16666667]\n",
      " [0.16666667]\n",
      " [0.16666667]]\n"
     ]
    }
   ],
   "source": [
    "# Generate the article vector and influence vector (for the first iteration)\n",
    "\n",
    "a = [3/14,2/14,5/14,1/14,2/14,1/14] # this is the article vector\n",
    "inf_vec_init = [] # this is the influence vector for the prev iteration\n",
    "inf_vec = [] # this is the influence vector for the next iteration\n",
    "for i in range(0,num_journals):\n",
    "    inf_vec_init.append(float(1/num_journals))\n",
    "    inf_vec.append(0.0)\n",
    "\n",
    "\n",
    "\n",
    "# Convert both these lists into vectors of appropriate dimensions\n",
    "a = np.array(a).reshape(num_journals, 1)\n",
    "inf_vec_init = np.array(inf_vec_init).reshape(num_journals, 1)\n",
    "inf_vec = np.array(inf_vec).reshape(num_journals, 1)\n",
    "\n",
    "\n",
    "print(\"a: \",a)\n",
    "print(\"influence vector: \",inf_vec_init)\n",
    "\n",
    "#np.matmul(norm_mtx1,d1)"
   ]
  },
  {
   "cell_type": "code",
   "execution_count": 10,
   "metadata": {},
   "outputs": [
    {
     "name": "stdout",
     "output_type": "stream",
     "text": [
      "Iteration:  1\n",
      "Residual:  0.2368453122091217\n",
      "Iteration:  2\n",
      "Residual:  0.08092008866629648\n",
      "Iteration:  3\n",
      "Residual:  0.03191071858184089\n",
      "Iteration:  4\n",
      "Residual:  0.005607834606594513\n",
      "Iteration:  5\n",
      "Residual:  0.0036292005059997416\n",
      "Iteration:  6\n",
      "Residual:  0.0015733983460622374\n",
      "Iteration:  7\n",
      "Residual:  0.0009248510671177797\n",
      "Iteration:  8\n",
      "Residual:  0.0005579643482496045\n",
      "Iteration:  9\n",
      "Residual:  0.00034763075755432735\n",
      "Iteration:  10\n",
      "Residual:  0.00021288182741747573\n",
      "Iteration:  11\n",
      "Residual:  0.0001314491222846803\n",
      "Iteration:  12\n",
      "Residual:  8.081769118034092e-05\n",
      "Iteration:  13\n",
      "Residual:  4.979979063586942e-05\n",
      "Iteration:  14\n",
      "Residual:  3.066549082426064e-05\n",
      "Iteration:  15\n",
      "Residual:  1.8892225266025046e-05\n",
      "Iteration:  16\n",
      "Residual:  1.1636776304398121e-05\n",
      "Iteration:  17\n",
      "Influence vector: \n",
      "[[0.30402454]\n",
      " [0.16360216]\n",
      " [0.18979672]\n",
      " [0.04661902]\n",
      " [0.2753102 ]\n",
      " [0.02064736]]\n"
     ]
    }
   ],
   "source": [
    "# Inf_vec(k+1) = alpha*H*Inf_vec(k) + [alpha*d*Inf_vec(k) + (1-alpha)]a\n",
    "\n",
    "# Here alpha=0.85; inf_vec(0)=[1/6,1/6,1/6,1/6,1/6,1/6]; H is the normalized matrix;\n",
    "# d is the dangling node vector; a is article vector same as inf_vec_init\n",
    "\n",
    "\n",
    "i=1\n",
    "alpha = 0.85\n",
    "while(i<=20):\n",
    "    print(\"Iteration: \",i)\n",
    "    inf_vec = (alpha * (np.matmul(norm_mtx1,inf_vec_init))) + np.matmul(a,(alpha * (np.dot(d,inf_vec_init)) + (1-alpha)))\n",
    "    if(np.linalg.norm(inf_vec - inf_vec_init) <= 0.00001): # epsilon = 0.00001\n",
    "        break\n",
    "    else:\n",
    "        print(\"Residual: \",np.linalg.norm(inf_vec - inf_vec_init))\n",
    "        inf_vec_init = inf_vec\n",
    "    i+=1\n",
    "print(\"Influence vector: \")\n",
    "print(inf_vec)"
   ]
  },
  {
   "cell_type": "code",
   "execution_count": 13,
   "metadata": {},
   "outputs": [
    {
     "data": {
      "text/plain": [
       "array([[34.05071853],\n",
       "       [17.20381588],\n",
       "       [12.17543157],\n",
       "       [ 3.65317104],\n",
       "       [32.91686298],\n",
       "       [ 0.        ]])"
      ]
     },
     "execution_count": 13,
     "metadata": {},
     "output_type": "execute_result"
    }
   ],
   "source": [
    "# Calculate the Eigenfactor:\n",
    "\n",
    "# dot product of the Normalized matrix and the Influence vector\n",
    "eigenfactor = []\n",
    "for i in range(0,num_journals):\n",
    "    eigenfactor.append(0.0)\n",
    "eigenfactor = np.array(eigenfactor).reshape(num_journals, 1) #creating an Nx1 vector with 0.0 as its elements\n",
    "\n",
    "eigenfactor = np.dot(norm_mtx1,inf_vec) # dot product\n",
    "eigenfactor = 100*(normalize(eigenfactor, axis=0, norm='l1')) #multiply it by 100 to get percentages\n",
    "\n",
    "eigenfactor # final eigenfactor matrix\n"
   ]
  },
  {
   "cell_type": "code",
   "execution_count": null,
   "metadata": {},
   "outputs": [],
   "source": [
    "# --------------------------------------PART 2--------------------------------------------------------#\n",
    "# ------------------ IMPORT THE TXT CSV FILE\n",
    "Tk().withdraw() # we don't want a full GUI, so keep the root window from appearing\n",
    "filename = askopenfilename() # show an \"Open\" dialog box and return the path to the selected file\n",
    "journals_df=pd.read_csv(filename, header=None)\n"
   ]
  },
  {
   "cell_type": "code",
   "execution_count": 3,
   "metadata": {},
   "outputs": [
    {
     "name": "stdout",
     "output_type": "stream",
     "text": [
      "     0     1    2\n",
      "0  758  1476    5\n",
      "1  758   758  150\n",
      "2  758  5938    3\n",
      "3  758  4972   13\n",
      "4  758  2416    0\n",
      "5  758  7067    1\n",
      "6  758  4543    0\n",
      "7  758  2722    1\n",
      "8  758  2249    1\n",
      "9  758  7531    1\n",
      "0    0\n",
      "1    0\n",
      "2    0\n",
      "dtype: int64\n",
      "0    10747\n",
      "1    10747\n",
      "2    28293\n",
      "dtype: int64\n"
     ]
    }
   ],
   "source": [
    "# test if the import has happened\n",
    "\n",
    "print(journals_df.head(10))\n",
    "# print(journals_df.shape)\n",
    "# print(journals_df.dtypes)\n",
    "print(journals_df.min())\n",
    "print(journals_df.max())"
   ]
  },
  {
   "cell_type": "code",
   "execution_count": 5,
   "metadata": {},
   "outputs": [
    {
     "name": "stdout",
     "output_type": "stream",
     "text": [
      "[[0. 0. 0. ... 0. 0. 0.]\n",
      " [0. 0. 0. ... 0. 0. 0.]\n",
      " [0. 0. 0. ... 0. 0. 0.]\n",
      " ...\n",
      " [0. 0. 0. ... 0. 0. 0.]\n",
      " [0. 0. 0. ... 0. 0. 0.]\n",
      " [0. 0. 0. ... 0. 0. 0.]]\n"
     ]
    }
   ],
   "source": [
    "# Initialize an empty adjacency matrix with 0.0 as values\n",
    "\n",
    "adj_mtx = []\n",
    "\n",
    "n1 = 10748*10748 # there are 10748 unique. check with max and min values\n",
    "for i in range(0,n1):\n",
    "    adj_mtx.append(0.0)\n",
    "adj_mtx = np.array(adj_mtx).reshape(10748, 10748)\n",
    "print(adj_mtx)"
   ]
  },
  {
   "cell_type": "code",
   "execution_count": 6,
   "metadata": {},
   "outputs": [
    {
     "name": "stdout",
     "output_type": "stream",
     "text": [
      "[[  34.    0.    0. ...    0.    0.    0.]\n",
      " [   0.   21.    0. ...    0.    0.    0.]\n",
      " [   0.    0. 1594. ...    0.    0.    0.]\n",
      " ...\n",
      " [   0.    0.    0. ...   20.    0.    0.]\n",
      " [   0.    0.    0. ...    0.    0.    0.]\n",
      " [   0.    0.    0. ...    0.    0.   40.]]\n"
     ]
    }
   ],
   "source": [
    "# Populate the adj matrix\n",
    "i=0\n",
    "j=0\n",
    "for index, row in journals_df.iterrows():\n",
    "    j = row[0]; i = row[1]; value = row[2] # setting the j to col1 and i to col2 in the DF\n",
    "    adj_mtx[i][j] = value\n",
    "\n",
    "print(adj_mtx)"
   ]
  },
  {
   "cell_type": "code",
   "execution_count": 13,
   "metadata": {},
   "outputs": [
    {
     "name": "stdout",
     "output_type": "stream",
     "text": [
      "Matrix after removing self-references: \n",
      "[[0. 0. 0. ... 0. 0. 0.]\n",
      " [0. 0. 0. ... 0. 0. 0.]\n",
      " [0. 0. 0. ... 0. 0. 0.]\n",
      " ...\n",
      " [0. 0. 0. ... 0. 0. 0.]\n",
      " [0. 0. 0. ... 0. 0. 0.]\n",
      " [0. 0. 0. ... 0. 0. 0.]]\n"
     ]
    }
   ],
   "source": [
    "# Step 1:  Remove self references (diagonal elements=0.0) in the adjacency matrix\n",
    "for i in range(0,10748):\n",
    "    for j in range(0,10748):\n",
    "        if (i==j): \n",
    "            adj_mtx[i][j]=0.0\n",
    "            break\n",
    "            \n",
    "print(\"Matrix after removing self-references: \")\n",
    "print(adj_mtx)"
   ]
  },
  {
   "cell_type": "code",
   "execution_count": 23,
   "metadata": {},
   "outputs": [
    {
     "name": "stdout",
     "output_type": "stream",
     "text": [
      "[[0. 0. 0. ... 0. 0. 0.]\n",
      " [0. 0. 0. ... 0. 0. 0.]\n",
      " [0. 0. 0. ... 0. 0. 0.]\n",
      " ...\n",
      " [0. 0. 0. ... 0. 0. 0.]\n",
      " [0. 0. 0. ... 0. 0. 0.]\n",
      " [0. 0. 0. ... 0. 0. 0.]]\n"
     ]
    }
   ],
   "source": [
    "# Step 2: Normalize adjacency matrix column-wise to get the share of each publisher\n",
    "\n",
    "norm_adj_mtx = adj_mtx\n",
    "\n",
    "j=0 # initialize for zeroth column index\n",
    "while(j<10748):\n",
    "    col_total = sum(norm_adj_mtx[:,j]) #for each column, sum the values in each row\n",
    "    i = 0\n",
    "    while(i<10748):\n",
    "        if(col_total!=0):\n",
    "            norm_adj_mtx[i][j] = (norm_adj_mtx[i][j])/col_total\n",
    "        i+=1\n",
    "    j+=1\n",
    "\n",
    "# print the normalized adjacency matrix\n",
    "print(norm_adj_mtx)"
   ]
  },
  {
   "cell_type": "code",
   "execution_count": 28,
   "metadata": {},
   "outputs": [
    {
     "name": "stdout",
     "output_type": "stream",
     "text": [
      "Dangling-node vector: \n",
      "[[0 0 0 ... 0 0 0]]\n"
     ]
    }
   ],
   "source": [
    "# Step 3: Compute the dangling-node vector. This will be the column sums of the normalized matrix\n",
    "d=[]\n",
    "for i in range(0,10748):\n",
    "    d.append(0.0)\n",
    "for i in range(0,10748):\n",
    "    for j in range(0,10748):\n",
    "        d[i] += norm_adj_mtx[j][i]     #d will have the column sums of all columns\n",
    "\n",
    "# If column_sum=0, then make that value 1 in the vector\n",
    "for i in range(0,10748):\n",
    "    if(d[i]==0.0):\n",
    "        d[i]=1\n",
    "    else:\n",
    "        d[i]=0\n",
    "\n",
    "        \n",
    "d = np.array(d).reshape(1,10748)\n",
    "#print the dangling-node vector\n",
    "print(\"Dangling-node vector: \")\n",
    "print(d)\n"
   ]
  },
  {
   "cell_type": "code",
   "execution_count": 54,
   "metadata": {},
   "outputs": [
    {
     "name": "stdout",
     "output_type": "stream",
     "text": [
      "Article vector:  [[9.30405657e-05]\n",
      " [9.30405657e-05]\n",
      " [9.30405657e-05]\n",
      " ...\n",
      " [9.30405657e-05]\n",
      " [9.30405657e-05]\n",
      " [9.30405657e-05]]\n",
      "Initial influence vector:  [[9.30405657e-05]\n",
      " [9.30405657e-05]\n",
      " [9.30405657e-05]\n",
      " ...\n",
      " [9.30405657e-05]\n",
      " [9.30405657e-05]\n",
      " [9.30405657e-05]]\n",
      "Pi(k+1):  [[0.]\n",
      " [0.]\n",
      " [0.]\n",
      " ...\n",
      " [0.]\n",
      " [0.]\n",
      " [0.]]\n"
     ]
    }
   ],
   "source": [
    "# Initialize the article vector and influence vector (for the first iteration)\n",
    "\n",
    "art_vec = [] # this is the article vector\n",
    "pi_k = [] # this is the influence vector for the prev iteration\n",
    "pi_k_plus1 = [] # this is the influence vector for the next iteration\n",
    "for i in range(0,10748):\n",
    "    pi_k.append(float(1/10748)) \n",
    "    # here, we are assuming that each publication has only 1 journal. \n",
    "    # So the contribution of each publication will be 1/total num of publications\n",
    "    art_vec.append(float(1/10748))\n",
    "    pi_k_plus1.append(0.0) # initialize list elements to 0.0\n",
    "\n",
    "\n",
    "\n",
    "# Convert both these lists into vectors of appropriate dimensions\n",
    "art_vec = np.array(art_vec).reshape(10748, 1)\n",
    "pi_k = np.array(pi_k).reshape(10748, 1)\n",
    "pi_k_plus1 = np.array(pi_k_plus1).reshape(10748, 1)\n",
    "\n",
    "\n",
    "print(\"Article vector: \",art_vec)\n",
    "print(\"Initial influence vector: \",pi_k)\n",
    "print(\"Pi(k+1): \",pi_k_plus1)"
   ]
  },
  {
   "cell_type": "code",
   "execution_count": 55,
   "metadata": {},
   "outputs": [
    {
     "name": "stdout",
     "output_type": "stream",
     "text": [
      "Converged at iteration:  21\n",
      "Execution time:  0.9868021011352539 sec\n",
      "Influence vector: \n",
      "[[4.38757550e-05]\n",
      " [2.74529615e-05]\n",
      " [1.47057756e-04]\n",
      " ...\n",
      " [4.08370309e-05]\n",
      " [1.56825108e-05]\n",
      " [3.67758982e-05]]\n"
     ]
    }
   ],
   "source": [
    "# Inf_vec(k+1) = alpha*H*Inf_vec(k) + [alpha*d*Inf_vec(k) + (1-alpha)]a\n",
    "\n",
    "i=1\n",
    "alpha = 0.85\n",
    "start = time.time()\n",
    "while(i<=100):\n",
    "    #print(\"Iteration: \",i)\n",
    "    pi_k_plus1 = (alpha * (np.matmul(norm_adj_mtx,pi_k))) + np.matmul(art_vec,(alpha * (np.dot(d,pi_k)) + (1-alpha)))\n",
    "    if(np.linalg.norm(pi_k_plus1 - pi_k) <= 0.00001): # epsilon = 0.00001\n",
    "        break\n",
    "    else:\n",
    "        #print(\"Residual: \",np.linalg.norm(pi_k_plus1 - pi_k))\n",
    "        pi_k = pi_k_plus1\n",
    "    i+=1\n",
    "end = time.time()\n",
    "print(\"Converged at iteration: \",i)\n",
    "print(\"Execution time: \",end-start,\"sec\")\n",
    "print(\"Influence vector: \")\n",
    "print(pi_k_plus1)"
   ]
  },
  {
   "cell_type": "code",
   "execution_count": 59,
   "metadata": {},
   "outputs": [
    {
     "name": "stdout",
     "output_type": "stream",
     "text": [
      "[[0.00346127]\n",
      " [0.00150941]\n",
      " [0.01572399]\n",
      " ...\n",
      " [0.00310084]\n",
      " [0.00011093]\n",
      " [0.00261783]]\n"
     ]
    }
   ],
   "source": [
    "#Calculate the eigenfactor vector\n",
    "\n",
    "eigenfactor = np.dot(norm_adj_mtx,pi_k_plus1)\n",
    "norm_eigenfactor = eigenfactor\n",
    "\n",
    "col_total = sum(eigenfactor[:,0])  #col_total of matrix before normalization\n",
    "for j in range(0,10748):\n",
    "    norm_eigenfactor[j] = eigenfactor[j]/col_total #normalize each element\n",
    "\n",
    "norm_eigenfactor = 100 * norm_eigenfactor\n",
    "print(norm_eigenfactor) # print the final normalized vector"
   ]
  },
  {
   "cell_type": "code",
   "execution_count": 62,
   "metadata": {},
   "outputs": [
    {
     "name": "stdout",
     "output_type": "stream",
     "text": [
      "Top top 20 journals with scores\n",
      "Index\tScore\n",
      "[1212] \t [[0.31121248]]\n",
      "[5035] \t [[0.31659069]]\n",
      "[4598] \t [[0.37262531]]\n",
      "[2880] \t [[0.33019386]]\n",
      "[6569] \t [[0.31919523]]\n",
      "[3314] \t [[0.32730623]]\n",
      "[3480] \t [[0.37952447]]\n",
      "[8930] \t [[0.47758936]]\n",
      "[1995] \t [[0.38598353]]\n",
      "[6857] \t [[0.4396224]]\n",
      "[1935] \t [[0.38504837]]\n",
      "[5966] \t [[0.42962702]]\n",
      "[6523] \t [[0.48060872]]\n",
      "[6610] \t [[1.23460582]]\n",
      "[6667] \t [[0.63425277]]\n",
      "[2056] \t [[0.67933464]]\n",
      "[4024] \t [[0.57686694]]\n",
      "[6919] \t [[0.66469197]]\n",
      "[4408] \t [[1.4475384]]\n",
      "[4801] \t [[1.41203757]]\n"
     ]
    }
   ],
   "source": [
    "# scores for top 20 journals\n",
    "\n",
    "top20indices = np.argpartition(a = norm_eigenfactor, kth = -20, axis = 0)[-20:] #get the indices of top 20 elements\n",
    "print(\"Top top 20 journals with scores\")\n",
    "print(\"Index\\tScore\")\n",
    "for i in top20indices:\n",
    "    print(i,'\\t',norm_eigenfactor[i])"
   ]
  },
  {
   "cell_type": "markdown",
   "metadata": {},
   "source": [
    "Above are the list of top 20 journals with their scores.\n",
    "\n",
    "Code took 0.9868021011352539 sec to converge. (This varies with how busy my system was. But usually it executed within 3 sec)\n",
    "\n",
    "It converged at the 21st iteration."
   ]
  }
 ],
 "metadata": {
  "kernelspec": {
   "display_name": "Python 3",
   "language": "python",
   "name": "python3"
  },
  "language_info": {
   "codemirror_mode": {
    "name": "ipython",
    "version": 3
   },
   "file_extension": ".py",
   "mimetype": "text/x-python",
   "name": "python",
   "nbconvert_exporter": "python",
   "pygments_lexer": "ipython3",
   "version": "3.7.1"
  }
 },
 "nbformat": 4,
 "nbformat_minor": 2
}
